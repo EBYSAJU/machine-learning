{
 "cells": [
  {
   "cell_type": "code",
   "execution_count": 2,
   "id": "444fe96d",
   "metadata": {},
   "outputs": [],
   "source": [
    "import pandas as pd\n",
    "import numpy as np\n",
    "import matplotlib.pyplot as plt\n",
    "df = pd.read_csv('raw-data.csv')\n",
    "df['time']=pd.to_datetime(df['ts'],unit='ms')\n",
    "df.set_index('time',inplace=True)\n",
    "df.drop(columns=['ts'],inplace=True)\n"
   ]
  },
  {
   "cell_type": "code",
   "execution_count": 5,
   "id": "675f5f69",
   "metadata": {},
   "outputs": [
    {
     "data": {
      "text/plain": [
       "{}"
      ]
     },
     "execution_count": 5,
     "metadata": {},
     "output_type": "execute_result"
    }
   ],
   "source": []
  },
  {
   "cell_type": "code",
   "execution_count": 7,
   "id": "d239f743",
   "metadata": {},
   "outputs": [
    {
     "name": "stdout",
     "output_type": "stream",
     "text": [
      "hello hi\n"
     ]
    }
   ],
   "source": [
    "print(\"hello hi\")"
   ]
  },
  {
   "cell_type": "code",
   "execution_count": 3,
   "id": "426366cc",
   "metadata": {},
   "outputs": [
    {
     "data": {
      "text/html": [
       "<div>\n",
       "<style scoped>\n",
       "    .dataframe tbody tr th:only-of-type {\n",
       "        vertical-align: middle;\n",
       "    }\n",
       "\n",
       "    .dataframe tbody tr th {\n",
       "        vertical-align: top;\n",
       "    }\n",
       "\n",
       "    .dataframe thead th {\n",
       "        text-align: right;\n",
       "    }\n",
       "</style>\n",
       "<table border=\"1\" class=\"dataframe\">\n",
       "  <thead>\n",
       "    <tr style=\"text-align: right;\">\n",
       "      <th></th>\n",
       "      <th>id</th>\n",
       "      <th>value</th>\n",
       "      <th>label</th>\n",
       "    </tr>\n",
       "    <tr>\n",
       "      <th>time</th>\n",
       "      <th></th>\n",
       "      <th></th>\n",
       "      <th></th>\n",
       "    </tr>\n",
       "  </thead>\n",
       "  <tbody>\n",
       "    <tr>\n",
       "      <th>2020-04-23 11:13:54.617</th>\n",
       "      <td>pump-1</td>\n",
       "      <td>18.340181</td>\n",
       "      <td>0</td>\n",
       "    </tr>\n",
       "    <tr>\n",
       "      <th>2020-04-23 11:13:57.999</th>\n",
       "      <td>pump-2</td>\n",
       "      <td>12.703972</td>\n",
       "      <td>0</td>\n",
       "    </tr>\n",
       "    <tr>\n",
       "      <th>2020-04-23 11:13:59.618</th>\n",
       "      <td>pump-1</td>\n",
       "      <td>17.647661</td>\n",
       "      <td>0</td>\n",
       "    </tr>\n",
       "    <tr>\n",
       "      <th>2020-04-23 11:14:02.999</th>\n",
       "      <td>pump-2</td>\n",
       "      <td>13.805114</td>\n",
       "      <td>0</td>\n",
       "    </tr>\n",
       "    <tr>\n",
       "      <th>2020-04-23 11:14:04.617</th>\n",
       "      <td>pump-1</td>\n",
       "      <td>16.874933</td>\n",
       "      <td>0</td>\n",
       "    </tr>\n",
       "    <tr>\n",
       "      <th>...</th>\n",
       "      <td>...</td>\n",
       "      <td>...</td>\n",
       "      <td>...</td>\n",
       "    </tr>\n",
       "    <tr>\n",
       "      <th>2020-04-23 13:19:38.000</th>\n",
       "      <td>pump-2</td>\n",
       "      <td>43.276667</td>\n",
       "      <td>1</td>\n",
       "    </tr>\n",
       "    <tr>\n",
       "      <th>2020-04-23 13:19:39.617</th>\n",
       "      <td>pump-1</td>\n",
       "      <td>15.709151</td>\n",
       "      <td>0</td>\n",
       "    </tr>\n",
       "    <tr>\n",
       "      <th>2020-04-23 13:19:42.999</th>\n",
       "      <td>pump-2</td>\n",
       "      <td>16.214949</td>\n",
       "      <td>0</td>\n",
       "    </tr>\n",
       "    <tr>\n",
       "      <th>2020-04-23 13:19:44.617</th>\n",
       "      <td>pump-1</td>\n",
       "      <td>15.393048</td>\n",
       "      <td>0</td>\n",
       "    </tr>\n",
       "    <tr>\n",
       "      <th>2020-04-23 13:19:47.999</th>\n",
       "      <td>pump-2</td>\n",
       "      <td>14.855999</td>\n",
       "      <td>0</td>\n",
       "    </tr>\n",
       "  </tbody>\n",
       "</table>\n",
       "<p>3022 rows × 3 columns</p>\n",
       "</div>"
      ],
      "text/plain": [
       "                             id      value  label\n",
       "time                                             \n",
       "2020-04-23 11:13:54.617  pump-1  18.340181      0\n",
       "2020-04-23 11:13:57.999  pump-2  12.703972      0\n",
       "2020-04-23 11:13:59.618  pump-1  17.647661      0\n",
       "2020-04-23 11:14:02.999  pump-2  13.805114      0\n",
       "2020-04-23 11:14:04.617  pump-1  16.874933      0\n",
       "...                         ...        ...    ...\n",
       "2020-04-23 13:19:38.000  pump-2  43.276667      1\n",
       "2020-04-23 13:19:39.617  pump-1  15.709151      0\n",
       "2020-04-23 13:19:42.999  pump-2  16.214949      0\n",
       "2020-04-23 13:19:44.617  pump-1  15.393048      0\n",
       "2020-04-23 13:19:47.999  pump-2  14.855999      0\n",
       "\n",
       "[3022 rows x 3 columns]"
      ]
     },
     "execution_count": 3,
     "metadata": {},
     "output_type": "execute_result"
    }
   ],
   "source": [
    "df"
   ]
  },
  {
   "cell_type": "code",
   "execution_count": null,
   "id": "beda3a55",
   "metadata": {},
   "outputs": [],
   "source": []
  }
 ],
 "metadata": {
  "kernelspec": {
   "display_name": "Python 3 (ipykernel)",
   "language": "python",
   "name": "python3"
  },
  "language_info": {
   "codemirror_mode": {
    "name": "ipython",
    "version": 3
   },
   "file_extension": ".py",
   "mimetype": "text/x-python",
   "name": "python",
   "nbconvert_exporter": "python",
   "pygments_lexer": "ipython3",
   "version": "3.9.12"
  }
 },
 "nbformat": 4,
 "nbformat_minor": 5
}
